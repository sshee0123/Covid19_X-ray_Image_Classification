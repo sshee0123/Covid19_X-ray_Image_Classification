{
 "cells": [
  {
   "cell_type": "code",
   "execution_count": 13,
   "id": "0d6e0b18",
   "metadata": {},
   "outputs": [],
   "source": [
    "import tensorflow as tf\n",
    "# from tensorflow.keras.models import Sequential\n",
    "# from tensorflow.keras.layers import Dense,Flatten,Dropout,Conv2D,MaxPooling2D\n",
    "import numpy as np\n",
    "import os\n",
    "import pandas as pd\n",
    "\n",
    "np.random.seed(3)\n",
    "tf.random.set_seed(3)\n",
    "\n",
    "filepath = './covid/train.txt'\n",
    "test_df = pd.read_csv(filepath, sep =\" \", header=None)\n",
    "test_df.columns = [\"patient id\", \"filenames\", \"labels\", \"data source\"]\n",
    "test_df=test_df.drop(['patient id', 'data source'], axis=1 )\n",
    "print (test_df.head())\n"
   ]
  },
  {
   "cell_type": "code",
   "execution_count": null,
   "id": "3841c0d0",
   "metadata": {},
   "outputs": [],
   "source": []
  }
 ],
 "metadata": {
  "kernelspec": {
   "display_name": "jupy",
   "language": "python",
   "name": "tensorflow_test"
  },
  "language_info": {
   "codemirror_mode": {
    "name": "ipython",
    "version": 3
   },
   "file_extension": ".py",
   "mimetype": "text/x-python",
   "name": "python",
   "nbconvert_exporter": "python",
   "pygments_lexer": "ipython3",
   "version": "3.8.10"
  }
 },
 "nbformat": 4,
 "nbformat_minor": 5
}
